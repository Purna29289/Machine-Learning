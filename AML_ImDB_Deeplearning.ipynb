{
  "nbformat": 4,
  "nbformat_minor": 0,
  "metadata": {
    "colab": {
      "name": "AML_ImDB_Deeplearning.ipynb",
      "provenance": [],
      "authorship_tag": "ABX9TyOlzbgv3/jtLEwtAvt2Cfkw",
      "include_colab_link": true
    },
    "kernelspec": {
      "name": "python3",
      "display_name": "Python 3"
    },
    "language_info": {
      "name": "python"
    }
  },
  "cells": [
    {
      "cell_type": "markdown",
      "metadata": {
        "id": "view-in-github",
        "colab_type": "text"
      },
      "source": [
        "<a href=\"https://colab.research.google.com/github/Purna29289/Machine-Learning/blob/main/AML_ImDB_Deeplearning.ipynb\" target=\"_parent\"><img src=\"https://colab.research.google.com/assets/colab-badge.svg\" alt=\"Open In Colab\"/></a>"
      ]
    },
    {
      "cell_type": "markdown",
      "metadata": {
        "id": "Ln4cmtFH3cc6"
      },
      "source": [
        "#Loading the imdb data from the keras library"
      ]
    },
    {
      "cell_type": "code",
      "metadata": {
        "id": "Jy3zxJ2BhrYU"
      },
      "source": [
        "from keras.datasets import imdb\n",
        "(Train_data, Train_labels), (Test_Data, Test_labels) = imdb.load_data(num_words = 10000)"
      ],
      "execution_count": 78,
      "outputs": []
    },
    {
      "cell_type": "markdown",
      "metadata": {
        "id": "E9ahi0JC7XOe"
      },
      "source": [
        "num_words will consider only the top 10000 words that are frequently used. It will remove the rarely used words. train_labels and test_labels store the binary values for positive and negative reviews as 1 and 0 respectively. This data will be transformed into feasible data as part of data preparation process"
      ]
    },
    {
      "cell_type": "markdown",
      "metadata": {
        "id": "MLdZnTKULjgp"
      },
      "source": [
        "#Data Preparation"
      ]
    },
    {
      "cell_type": "code",
      "metadata": {
        "id": "UDi8BXuAiawV"
      },
      "source": [
        "import numpy as np\n",
        "def vector_sequence(sequences, dimension = 10000):\n",
        "  output = np.zeros((len(sequences), dimension))\n",
        "  for i, s in enumerate(sequences):\n",
        "    output[i,s] = 1\n",
        "  return output\n",
        "D_train = vector_sequence(Train_data)\n",
        "D_test = vector_sequence(Test_Data)\n",
        "L_Train = np.asarray(Train_labels).astype('float32')\n",
        "L_Test = np.asarray(Test_labels).astype('float32')"
      ],
      "execution_count": 79,
      "outputs": []
    },
    {
      "cell_type": "markdown",
      "metadata": {
        "id": "mRM0C4S9L58I"
      },
      "source": [
        "#Building the Deep Learning Model"
      ]
    },
    {
      "cell_type": "code",
      "metadata": {
        "id": "xrUEjM4zL5Fv"
      },
      "source": [
        "from keras import models\n",
        "from keras import layers\n",
        "\n",
        "model_1 = models.Sequential()\n",
        "model_1.add(layers.Dense(16, activation=\"relu\")),\n",
        "model_1.add(layers.Dense(16, activation=\"relu\")),\n",
        "model_1.add(layers.Dense(1, activation=\"sigmoid\"))"
      ],
      "execution_count": 80,
      "outputs": []
    },
    {
      "cell_type": "markdown",
      "metadata": {
        "id": "609kTDW9NOL9"
      },
      "source": [
        "#Compiling the model"
      ]
    },
    {
      "cell_type": "code",
      "metadata": {
        "id": "RB7GMb6lNLl6"
      },
      "source": [
        "model_1.compile(optimizer='rmsprop',\n",
        "              loss='binary_crossentropy',\n",
        "              metrics=['accuracy'])"
      ],
      "execution_count": 81,
      "outputs": []
    },
    {
      "cell_type": "markdown",
      "metadata": {
        "id": "lIzT31FuNoGk"
      },
      "source": [
        "#Segregating a validation set from the data"
      ]
    },
    {
      "cell_type": "code",
      "metadata": {
        "id": "y8YdFyKFN0NC"
      },
      "source": [
        "D_Val = D_train[:10000]\n",
        "Partial_D_train = D_train[10000:]\n",
        "\n",
        "L_Val = L_Train[:10000]\n",
        "Partial_L_Train = L_Train[10000:]"
      ],
      "execution_count": 84,
      "outputs": []
    },
    {
      "cell_type": "markdown",
      "metadata": {
        "id": "jJh5tfWGTlcl"
      },
      "source": [
        "#Training the model"
      ]
    },
    {
      "cell_type": "code",
      "metadata": {
        "colab": {
          "base_uri": "https://localhost:8080/"
        },
        "id": "2x0IA1QYTohi",
        "outputId": "63d1ccb3-e2c8-47eb-9c1c-b188527e8c83"
      },
      "source": [
        "history = model_1.fit(Partial_D_Train,\n",
        "                      Partial_L_Train,\n",
        "                      epochs=20,\n",
        "                      batch_size=512,\n",
        "                      validation_data=(D_Val, L_Val))"
      ],
      "execution_count": 85,
      "outputs": [
        {
          "output_type": "stream",
          "name": "stdout",
          "text": [
            "Epoch 1/20\n",
            "30/30 [==============================] - 3s 70ms/step - loss: 0.5421 - accuracy: 0.7743 - val_loss: 0.4148 - val_accuracy: 0.8696\n",
            "Epoch 2/20\n",
            "30/30 [==============================] - 1s 36ms/step - loss: 0.3319 - accuracy: 0.9001 - val_loss: 0.3238 - val_accuracy: 0.8834\n",
            "Epoch 3/20\n",
            "30/30 [==============================] - 1s 36ms/step - loss: 0.2401 - accuracy: 0.9241 - val_loss: 0.2862 - val_accuracy: 0.8898\n",
            "Epoch 4/20\n",
            "30/30 [==============================] - 1s 36ms/step - loss: 0.1860 - accuracy: 0.9411 - val_loss: 0.2723 - val_accuracy: 0.8906\n",
            "Epoch 5/20\n",
            "30/30 [==============================] - 1s 36ms/step - loss: 0.1521 - accuracy: 0.9513 - val_loss: 0.2830 - val_accuracy: 0.8856\n",
            "Epoch 6/20\n",
            "30/30 [==============================] - 1s 36ms/step - loss: 0.1238 - accuracy: 0.9635 - val_loss: 0.2969 - val_accuracy: 0.8841\n",
            "Epoch 7/20\n",
            "30/30 [==============================] - 1s 36ms/step - loss: 0.1026 - accuracy: 0.9695 - val_loss: 0.3532 - val_accuracy: 0.8706\n",
            "Epoch 8/20\n",
            "30/30 [==============================] - 1s 38ms/step - loss: 0.0866 - accuracy: 0.9767 - val_loss: 0.3478 - val_accuracy: 0.8740\n",
            "Epoch 9/20\n",
            "30/30 [==============================] - 1s 37ms/step - loss: 0.0708 - accuracy: 0.9812 - val_loss: 0.3416 - val_accuracy: 0.8804\n",
            "Epoch 10/20\n",
            "30/30 [==============================] - 1s 37ms/step - loss: 0.0573 - accuracy: 0.9861 - val_loss: 0.3683 - val_accuracy: 0.8777\n",
            "Epoch 11/20\n",
            "30/30 [==============================] - 1s 37ms/step - loss: 0.0495 - accuracy: 0.9877 - val_loss: 0.3969 - val_accuracy: 0.8758\n",
            "Epoch 12/20\n",
            "30/30 [==============================] - 1s 37ms/step - loss: 0.0375 - accuracy: 0.9923 - val_loss: 0.4364 - val_accuracy: 0.8710\n",
            "Epoch 13/20\n",
            "30/30 [==============================] - 1s 37ms/step - loss: 0.0318 - accuracy: 0.9931 - val_loss: 0.4845 - val_accuracy: 0.8690\n",
            "Epoch 14/20\n",
            "30/30 [==============================] - 1s 36ms/step - loss: 0.0228 - accuracy: 0.9967 - val_loss: 0.4845 - val_accuracy: 0.8716\n",
            "Epoch 15/20\n",
            "30/30 [==============================] - 1s 36ms/step - loss: 0.0195 - accuracy: 0.9966 - val_loss: 0.5533 - val_accuracy: 0.8647\n",
            "Epoch 16/20\n",
            "30/30 [==============================] - 1s 36ms/step - loss: 0.0184 - accuracy: 0.9959 - val_loss: 0.5553 - val_accuracy: 0.8672\n",
            "Epoch 17/20\n",
            "30/30 [==============================] - 1s 36ms/step - loss: 0.0101 - accuracy: 0.9996 - val_loss: 0.5855 - val_accuracy: 0.8679\n",
            "Epoch 18/20\n",
            "30/30 [==============================] - 1s 37ms/step - loss: 0.0102 - accuracy: 0.9987 - val_loss: 0.6227 - val_accuracy: 0.8665\n",
            "Epoch 19/20\n",
            "30/30 [==============================] - 1s 37ms/step - loss: 0.0086 - accuracy: 0.9986 - val_loss: 0.6607 - val_accuracy: 0.8638\n",
            "Epoch 20/20\n",
            "30/30 [==============================] - 1s 36ms/step - loss: 0.0042 - accuracy: 0.9998 - val_loss: 0.7104 - val_accuracy: 0.8627\n"
          ]
        }
      ]
    },
    {
      "cell_type": "markdown",
      "metadata": {
        "id": "Z1cp-zadVECv"
      },
      "source": [
        "#Plotting the losses of training and validation"
      ]
    },
    {
      "cell_type": "code",
      "metadata": {
        "colab": {
          "base_uri": "https://localhost:8080/",
          "height": 295
        },
        "id": "b4sXYtgDVFiS",
        "outputId": "48ab3641-6cd3-4710-e346-95624aee093f"
      },
      "source": [
        "import matplotlib.pyplot as plt\n",
        "hist_dict = history.history\n",
        "values_Loss = hist_dict[\"loss\"]\n",
        "valid_loss_values = hist_dict[\"val_loss\"]\n",
        "epochs = range(1, len(values_Loss) + 1)\n",
        "plt.plot(epochs, values_Loss, \"bo\", label=\"Training loss\")\n",
        "plt.plot(epochs, valid_loss_values, \"b\", label=\"Validation loss\")\n",
        "plt.title(\"Training and validation loss\")\n",
        "plt.xlabel(\"Epochs\")\n",
        "plt.ylabel(\"Loss\")\n",
        "plt.legend()\n",
        "plt.show()"
      ],
      "execution_count": 86,
      "outputs": [
        {
          "output_type": "display_data",
          "data": {
            "image/png": "[encoded data removed]",
            "text/plain": [
              "<Figure size 432x288 with 1 Axes>"
            ]
          },
          "metadata": {
            "needs_background": "light"
          }
        }
      ]
    },
    {
      "cell_type": "markdown",
      "metadata": {
        "id": "1xMtiYEBVzOx"
      },
      "source": [
        "#Plotting Accuracy of Training and Validation"
      ]
    },
    {
      "cell_type": "code",
      "metadata": {
        "colab": {
          "base_uri": "https://localhost:8080/",
          "height": 295
        },
        "id": "S2QjMH6kV1kP",
        "outputId": "4694af0b-93ac-42ff-acef-b9d8f98bf360"
      },
      "source": [
        "plt.clf()\n",
        "Accuracy = hist_dict[\"accuracy\"]\n",
        "Accuracy_Val = hist_dict[\"val_accuracy\"]\n",
        "plt.plot(epochs, Accuracy, \"bo\", label=\"Training acc\")\n",
        "plt.plot(epochs, Accuracy_Val, \"b\", label=\"Validation acc\")\n",
        "plt.title(\"Training and validation accuracy\")\n",
        "plt.xlabel(\"Epochs\")\n",
        "plt.ylabel(\"Accuracy\")\n",
        "plt.legend()\n",
        "plt.show()"
      ],
      "execution_count": 87,
      "outputs": [
        {
          "output_type": "display_data",
          "data": {
            "image/png": "[encoded data removed]",
            "text/plain": [
              "<Figure size 432x288 with 1 Axes>"
            ]
          },
          "metadata": {
            "needs_background": "light"
          }
        }
      ]
    },
    {
      "cell_type": "markdown",
      "metadata": {
        "id": "BvixAd4-WuWw"
      },
      "source": [
        "At around 4 epochs, the accuracy on the validation set is at best. We will retrain the model by considering 4 epochs only"
      ]
    },
    {
      "cell_type": "code",
      "metadata": {
        "colab": {
          "base_uri": "https://localhost:8080/"
        },
        "id": "RMjR-Gk7W_Du",
        "outputId": "f7797479-4cde-4844-e763-caf8d9094629"
      },
      "source": [
        "model_1 = models.Sequential()\n",
        "model_1.add(layers.Dense(16, activation=\"relu\")),\n",
        "model_1.add(layers.Dense(16, activation=\"relu\")),\n",
        "model_1.add(layers.Dense(1, activation=\"sigmoid\"))\n",
        "\n",
        "model_1.compile(optimizer='rmsprop',\n",
        "              loss='binary_crossentropy',\n",
        "              metrics=['accuracy'])\n",
        "\n",
        "model_1.fit(D_train,\n",
        "            L_Train,\n",
        "            epochs=4,\n",
        "            batch_size=512)\n",
        "result = model_1.evaluate(D_test,L_Test)"
      ],
      "execution_count": 88,
      "outputs": [
        {
          "output_type": "stream",
          "name": "stdout",
          "text": [
            "Epoch 1/4\n",
            "49/49 [==============================] - 2s 29ms/step - loss: 0.4452 - accuracy: 0.8302\n",
            "Epoch 2/4\n",
            "49/49 [==============================] - 1s 29ms/step - loss: 0.2613 - accuracy: 0.9094\n",
            "Epoch 3/4\n",
            "49/49 [==============================] - 1s 29ms/step - loss: 0.2017 - accuracy: 0.9296\n",
            "Epoch 4/4\n",
            "49/49 [==============================] - 1s 29ms/step - loss: 0.1670 - accuracy: 0.9414\n",
            "782/782 [==============================] - 1s 2ms/step - loss: 0.2947 - accuracy: 0.8833\n"
          ]
        }
      ]
    },
    {
      "cell_type": "markdown",
      "metadata": {
        "id": "wa55D7YCY64f"
      },
      "source": [
        "Loss is 0.17 and Accuracy is 0.94 with this model"
      ]
    },
    {
      "cell_type": "code",
      "metadata": {
        "colab": {
          "base_uri": "https://localhost:8080/"
        },
        "id": "LC3FC78D6Nbw",
        "outputId": "f3c2b373-cb09-4046-ec1f-7ac65979e081"
      },
      "source": [
        "model_1.summary()"
      ],
      "execution_count": 89,
      "outputs": [
        {
          "output_type": "stream",
          "name": "stdout",
          "text": [
            "Model: \"sequential_23\"\n",
            "_________________________________________________________________\n",
            "Layer (type)                 Output Shape              Param #   \n",
            "=================================================================\n",
            "dense_55 (Dense)             (None, 16)                160016    \n",
            "_________________________________________________________________\n",
            "dense_56 (Dense)             (None, 16)                272       \n",
            "_________________________________________________________________\n",
            "dense_57 (Dense)             (None, 1)                 17        \n",
            "=================================================================\n",
            "Total params: 160,305\n",
            "Trainable params: 160,305\n",
            "Non-trainable params: 0\n",
            "_________________________________________________________________\n"
          ]
        }
      ]
    },
    {
      "cell_type": "markdown",
      "metadata": {
        "id": "XA8h2vEoZLO0"
      },
      "source": [
        "#Trying to use one or three hidden layers, and check how doing so affects validation and test accuracy."
      ]
    },
    {
      "cell_type": "markdown",
      "metadata": {
        "id": "4Oj2poGufGYv"
      },
      "source": [
        "THREE HIDDEN LAYERS"
      ]
    },
    {
      "cell_type": "code",
      "metadata": {
        "colab": {
          "base_uri": "https://localhost:8080/"
        },
        "id": "90wOFco1ZdsZ",
        "outputId": "a54791c5-7c7e-4703-a848-999cf43ca242"
      },
      "source": [
        "model_2 = models.Sequential()\n",
        "model_2.add(layers.Dense(16, activation=\"relu\")),\n",
        "model_2.add(layers.Dense(16, activation=\"relu\")),\n",
        "model_2.add(layers.Dense(16, activation=\"relu\")),\n",
        "model_2.add(layers.Dense(1, activation=\"sigmoid\"))\n",
        "\n",
        "model_2.compile(optimizer='rmsprop',\n",
        "              loss='binary_crossentropy',\n",
        "              metrics=['accuracy'])\n",
        "\n",
        "history_2 = model_2.fit(Partial_D_Train,\n",
        "                      Partial_L_Train,\n",
        "                      epochs=20,\n",
        "                      batch_size=512,\n",
        "                      validation_data=(D_Val, L_Val))"
      ],
      "execution_count": 90,
      "outputs": [
        {
          "output_type": "stream",
          "name": "stdout",
          "text": [
            "Epoch 1/20\n",
            "30/30 [==============================] - 2s 46ms/step - loss: 0.5239 - accuracy: 0.7879 - val_loss: 0.3981 - val_accuracy: 0.8464\n",
            "Epoch 2/20\n",
            "30/30 [==============================] - 1s 36ms/step - loss: 0.2977 - accuracy: 0.8989 - val_loss: 0.3006 - val_accuracy: 0.8840\n",
            "Epoch 3/20\n",
            "30/30 [==============================] - 1s 37ms/step - loss: 0.2123 - accuracy: 0.9265 - val_loss: 0.2751 - val_accuracy: 0.8917\n",
            "Epoch 4/20\n",
            "30/30 [==============================] - 1s 36ms/step - loss: 0.1619 - accuracy: 0.9471 - val_loss: 0.2904 - val_accuracy: 0.8874\n",
            "Epoch 5/20\n",
            "30/30 [==============================] - 1s 35ms/step - loss: 0.1291 - accuracy: 0.9570 - val_loss: 0.2967 - val_accuracy: 0.8877\n",
            "Epoch 6/20\n",
            "30/30 [==============================] - 1s 36ms/step - loss: 0.1033 - accuracy: 0.9679 - val_loss: 0.3146 - val_accuracy: 0.8849\n",
            "Epoch 7/20\n",
            "30/30 [==============================] - 1s 45ms/step - loss: 0.0777 - accuracy: 0.9785 - val_loss: 0.3464 - val_accuracy: 0.8837\n",
            "Epoch 8/20\n",
            "30/30 [==============================] - 4s 153ms/step - loss: 0.0619 - accuracy: 0.9825 - val_loss: 0.3781 - val_accuracy: 0.8815\n",
            "Epoch 9/20\n",
            "30/30 [==============================] - 1s 48ms/step - loss: 0.0512 - accuracy: 0.9858 - val_loss: 0.4593 - val_accuracy: 0.8664\n",
            "Epoch 10/20\n",
            "30/30 [==============================] - 1s 40ms/step - loss: 0.0375 - accuracy: 0.9903 - val_loss: 0.4421 - val_accuracy: 0.8764\n",
            "Epoch 11/20\n",
            "30/30 [==============================] - 1s 37ms/step - loss: 0.0315 - accuracy: 0.9922 - val_loss: 0.4778 - val_accuracy: 0.8722\n",
            "Epoch 12/20\n",
            "30/30 [==============================] - 1s 36ms/step - loss: 0.0306 - accuracy: 0.9922 - val_loss: 0.5201 - val_accuracy: 0.8694\n",
            "Epoch 13/20\n",
            "30/30 [==============================] - 1s 37ms/step - loss: 0.0102 - accuracy: 0.9989 - val_loss: 0.5471 - val_accuracy: 0.8700\n",
            "Epoch 14/20\n",
            "30/30 [==============================] - 1s 37ms/step - loss: 0.0239 - accuracy: 0.9935 - val_loss: 0.5846 - val_accuracy: 0.8705\n",
            "Epoch 15/20\n",
            "30/30 [==============================] - 1s 37ms/step - loss: 0.0049 - accuracy: 0.9995 - val_loss: 0.6295 - val_accuracy: 0.8700\n",
            "Epoch 16/20\n",
            "30/30 [==============================] - 1s 36ms/step - loss: 0.0173 - accuracy: 0.9947 - val_loss: 0.6559 - val_accuracy: 0.8698\n",
            "Epoch 17/20\n",
            "30/30 [==============================] - 1s 36ms/step - loss: 0.0028 - accuracy: 0.9997 - val_loss: 0.6820 - val_accuracy: 0.8689\n",
            "Epoch 18/20\n",
            "30/30 [==============================] - 1s 37ms/step - loss: 0.0112 - accuracy: 0.9973 - val_loss: 0.7325 - val_accuracy: 0.8653\n",
            "Epoch 19/20\n",
            "30/30 [==============================] - 1s 37ms/step - loss: 0.0016 - accuracy: 0.9998 - val_loss: 0.7551 - val_accuracy: 0.8687\n",
            "Epoch 20/20\n",
            "30/30 [==============================] - 1s 37ms/step - loss: 0.0011 - accuracy: 1.0000 - val_loss: 0.8073 - val_accuracy: 0.8634\n"
          ]
        }
      ]
    },
    {
      "cell_type": "code",
      "metadata": {
        "colab": {
          "base_uri": "https://localhost:8080/",
          "height": 573
        },
        "id": "0seon8FWfhBn",
        "outputId": "ae1cc888-7a18-4b3f-fc14-55f14dcf8c5a"
      },
      "source": [
        "hist_dict2 = history_2.history\n",
        "values_Loss = hist_dict2[\"loss\"]\n",
        "valid_loss_values = hist_dict2[\"val_loss\"]\n",
        "epochs = range(1, len(values_Loss) + 1)\n",
        "plt.plot(epochs, values_Loss, \"bo\", label=\"Training loss\")\n",
        "plt.plot(epochs, valid_loss_values, \"b\", label=\"Validation loss\")\n",
        "plt.title(\"Training and validation loss\")\n",
        "plt.xlabel(\"Epochs\")\n",
        "plt.ylabel(\"Loss\")\n",
        "plt.legend()\n",
        "plt.show()\n",
        "\n",
        "plt.clf()\n",
        "Accuracy = hist_dict2[\"accuracy\"]\n",
        "Accuracy_Val = hist_dict2[\"val_accuracy\"]\n",
        "plt.plot(epochs, Accuracy, \"bo\", label=\"Training acc\")\n",
        "plt.plot(epochs, Accuracy_Val, \"b\", label=\"Validation acc\")\n",
        "plt.title(\"Training and validation accuracy\")\n",
        "plt.xlabel(\"Epochs\")\n",
        "plt.ylabel(\"Accuracy\")\n",
        "plt.legend()\n",
        "plt.show()"
      ],
      "execution_count": 91,
      "outputs": [
        {
          "output_type": "display_data",
          "data": {
            "image/png": "[encoded data removed]",
            "text/plain": [
              "<Figure size 432x288 with 1 Axes>"
            ]
          },
          "metadata": {
            "needs_background": "light"
          }
        },
        {
          "output_type": "display_data",
          "data": {
            "image/png": "[encoded data removed]",
            "text/plain": [
              "<Figure size 432x288 with 1 Axes>"
            ]
          },
          "metadata": {
            "needs_background": "light"
          }
        }
      ]
    },
    {
      "cell_type": "code",
      "metadata": {
        "colab": {
          "base_uri": "https://localhost:8080/"
        },
        "id": "TGTkDnbj6SY8",
        "outputId": "bbbf1c44-4889-4f16-8318-6eab9066d49a"
      },
      "source": [
        "model_2.summary()"
      ],
      "execution_count": 92,
      "outputs": [
        {
          "output_type": "stream",
          "name": "stdout",
          "text": [
            "Model: \"sequential_24\"\n",
            "_________________________________________________________________\n",
            "Layer (type)                 Output Shape              Param #   \n",
            "=================================================================\n",
            "dense_58 (Dense)             (None, 16)                160016    \n",
            "_________________________________________________________________\n",
            "dense_59 (Dense)             (None, 16)                272       \n",
            "_________________________________________________________________\n",
            "dense_60 (Dense)             (None, 16)                272       \n",
            "_________________________________________________________________\n",
            "dense_61 (Dense)             (None, 1)                 17        \n",
            "=================================================================\n",
            "Total params: 160,577\n",
            "Trainable params: 160,577\n",
            "Non-trainable params: 0\n",
            "_________________________________________________________________\n"
          ]
        }
      ]
    },
    {
      "cell_type": "code",
      "metadata": {
        "colab": {
          "base_uri": "https://localhost:8080/"
        },
        "id": "GL6EOFBMiPhY",
        "outputId": "9bf7f47a-6cf1-4f0b-ebaf-d4e5beab03d7"
      },
      "source": [
        "model_3 = models.Sequential()\n",
        "model_3.add(layers.Dense(16, activation=\"relu\")),\n",
        "model_3.add(layers.Dense(1, activation=\"sigmoid\"))\n",
        "\n",
        "model_3.compile(optimizer='rmsprop',\n",
        "              loss='binary_crossentropy',\n",
        "              metrics=['accuracy'])\n",
        "\n",
        "history_3 = model_3.fit(Partial_D_Train,\n",
        "                      Partial_L_Train,\n",
        "                      epochs=20,\n",
        "                      batch_size=512,\n",
        "                      validation_data=(D_Val, L_Val))"
      ],
      "execution_count": 93,
      "outputs": [
        {
          "output_type": "stream",
          "name": "stdout",
          "text": [
            "Epoch 1/20\n",
            "30/30 [==============================] - 2s 65ms/step - loss: 0.4914 - accuracy: 0.7949 - val_loss: 0.3718 - val_accuracy: 0.8783\n",
            "Epoch 2/20\n",
            "30/30 [==============================] - 1s 39ms/step - loss: 0.3012 - accuracy: 0.9064 - val_loss: 0.3277 - val_accuracy: 0.8756\n",
            "Epoch 3/20\n",
            "30/30 [==============================] - 1s 35ms/step - loss: 0.2344 - accuracy: 0.9241 - val_loss: 0.2827 - val_accuracy: 0.8915\n",
            "Epoch 4/20\n",
            "30/30 [==============================] - 1s 36ms/step - loss: 0.1917 - accuracy: 0.9399 - val_loss: 0.2746 - val_accuracy: 0.8917\n",
            "Epoch 5/20\n",
            "30/30 [==============================] - 1s 36ms/step - loss: 0.1631 - accuracy: 0.9489 - val_loss: 0.2745 - val_accuracy: 0.8906\n",
            "Epoch 6/20\n",
            "30/30 [==============================] - 1s 35ms/step - loss: 0.1401 - accuracy: 0.9579 - val_loss: 0.2775 - val_accuracy: 0.8898\n",
            "Epoch 7/20\n",
            "30/30 [==============================] - 1s 36ms/step - loss: 0.1218 - accuracy: 0.9660 - val_loss: 0.2873 - val_accuracy: 0.8867\n",
            "Epoch 8/20\n",
            "30/30 [==============================] - 1s 35ms/step - loss: 0.1064 - accuracy: 0.9709 - val_loss: 0.3188 - val_accuracy: 0.8756\n",
            "Epoch 9/20\n",
            "30/30 [==============================] - 1s 35ms/step - loss: 0.0950 - accuracy: 0.9741 - val_loss: 0.3112 - val_accuracy: 0.8825\n",
            "Epoch 10/20\n",
            "30/30 [==============================] - 1s 35ms/step - loss: 0.0829 - accuracy: 0.9798 - val_loss: 0.3157 - val_accuracy: 0.8840\n",
            "Epoch 11/20\n",
            "30/30 [==============================] - 1s 36ms/step - loss: 0.0725 - accuracy: 0.9837 - val_loss: 0.3276 - val_accuracy: 0.8824\n",
            "Epoch 12/20\n",
            "30/30 [==============================] - 1s 36ms/step - loss: 0.0640 - accuracy: 0.9867 - val_loss: 0.3444 - val_accuracy: 0.8819\n",
            "Epoch 13/20\n",
            "30/30 [==============================] - 1s 37ms/step - loss: 0.0581 - accuracy: 0.9891 - val_loss: 0.3572 - val_accuracy: 0.8770\n",
            "Epoch 14/20\n",
            "30/30 [==============================] - 1s 36ms/step - loss: 0.0510 - accuracy: 0.9901 - val_loss: 0.3793 - val_accuracy: 0.8786\n",
            "Epoch 15/20\n",
            "30/30 [==============================] - 1s 36ms/step - loss: 0.0445 - accuracy: 0.9919 - val_loss: 0.3964 - val_accuracy: 0.8782\n",
            "Epoch 16/20\n",
            "30/30 [==============================] - 1s 36ms/step - loss: 0.0395 - accuracy: 0.9931 - val_loss: 0.4100 - val_accuracy: 0.8716\n",
            "Epoch 17/20\n",
            "30/30 [==============================] - 1s 35ms/step - loss: 0.0350 - accuracy: 0.9942 - val_loss: 0.4408 - val_accuracy: 0.8657\n",
            "Epoch 18/20\n",
            "30/30 [==============================] - 1s 36ms/step - loss: 0.0307 - accuracy: 0.9955 - val_loss: 0.4406 - val_accuracy: 0.8719\n",
            "Epoch 19/20\n",
            "30/30 [==============================] - 1s 35ms/step - loss: 0.0266 - accuracy: 0.9967 - val_loss: 0.4599 - val_accuracy: 0.8709\n",
            "Epoch 20/20\n",
            "30/30 [==============================] - 1s 35ms/step - loss: 0.0239 - accuracy: 0.9968 - val_loss: 0.4852 - val_accuracy: 0.8664\n"
          ]
        }
      ]
    },
    {
      "cell_type": "code",
      "metadata": {
        "colab": {
          "base_uri": "https://localhost:8080/",
          "height": 573
        },
        "id": "7k_jPnhGi37f",
        "outputId": "1c5e7e5d-9cbc-4159-9857-1fcecc682f99"
      },
      "source": [
        "hist_dict3 = history_3.history\n",
        "values_Loss = hist_dict3[\"loss\"]\n",
        "valid_loss_values = hist_dict3[\"val_loss\"]\n",
        "epochs = range(1, len(values_Loss) + 1)\n",
        "plt.plot(epochs, values_Loss, \"bo\", label=\"Training loss\")\n",
        "plt.plot(epochs, valid_loss_values, \"b\", label=\"Validation loss\")\n",
        "plt.title(\"Training and validation loss\")\n",
        "plt.xlabel(\"Epochs\")\n",
        "plt.ylabel(\"Loss\")\n",
        "plt.legend()\n",
        "plt.show()\n",
        "\n",
        "plt.clf()\n",
        "Accuracy = hist_dict3[\"accuracy\"]\n",
        "Accuracy_Val = hist_dict3[\"val_accuracy\"]\n",
        "plt.plot(epochs, Accuracy, \"bo\", label=\"Training acc\")\n",
        "plt.plot(epochs, Accuracy_Val, \"b\", label=\"Validation acc\")\n",
        "plt.title(\"Training and validation accuracy\")\n",
        "plt.xlabel(\"Epochs\")\n",
        "plt.ylabel(\"Accuracy\")\n",
        "plt.legend()\n",
        "plt.show()"
      ],
      "execution_count": 94,
      "outputs": [
        {
          "output_type": "display_data",
          "data": {
            "image/png": "[encoded data removed]",
            "text/plain": [
              "<Figure size 432x288 with 1 Axes>"
            ]
          },
          "metadata": {
            "needs_background": "light"
          }
        },
        {
          "output_type": "display_data",
          "data": {
            "image/png": "[encoded data removed]",
            "text/plain": [
              "<Figure size 432x288 with 1 Axes>"
            ]
          },
          "metadata": {
            "needs_background": "light"
          }
        }
      ]
    },
    {
      "cell_type": "code",
      "metadata": {
        "colab": {
          "base_uri": "https://localhost:8080/"
        },
        "id": "vYADSOXI6XAe",
        "outputId": "62f70ba4-2df1-4f42-dc24-53b3327113b9"
      },
      "source": [
        "model_3.summary()"
      ],
      "execution_count": 95,
      "outputs": [
        {
          "output_type": "stream",
          "name": "stdout",
          "text": [
            "Model: \"sequential_25\"\n",
            "_________________________________________________________________\n",
            "Layer (type)                 Output Shape              Param #   \n",
            "=================================================================\n",
            "dense_62 (Dense)             (None, 16)                160016    \n",
            "_________________________________________________________________\n",
            "dense_63 (Dense)             (None, 1)                 17        \n",
            "=================================================================\n",
            "Total params: 160,033\n",
            "Trainable params: 160,033\n",
            "Non-trainable params: 0\n",
            "_________________________________________________________________\n"
          ]
        }
      ]
    },
    {
      "cell_type": "markdown",
      "metadata": {
        "id": "myGNdHp0jTzO"
      },
      "source": [
        "#Trying to use more hidden units, and check how doing so affects validation and test accuracy."
      ]
    },
    {
      "cell_type": "code",
      "metadata": {
        "colab": {
          "base_uri": "https://localhost:8080/",
          "height": 1000
        },
        "id": "ndlRoo_rjVI0",
        "outputId": "ca400d3b-e39a-443a-c6d5-7262c7f1ba36"
      },
      "source": [
        "model_4 = models.Sequential()\n",
        "model_4.add(layers.Dense(32, activation=\"relu\")),\n",
        "model_4.add(layers.Dense(64, activation=\"relu\")),\n",
        "model_4.add(layers.Dense(1, activation=\"sigmoid\"))\n",
        "\n",
        "model_4.compile(optimizer='rmsprop',\n",
        "              loss='binary_crossentropy',\n",
        "              metrics=['accuracy'])\n",
        "\n",
        "history_4 = model_4.fit(Partial_D_Train,\n",
        "                      Partial_L_Train,\n",
        "                      epochs=20,\n",
        "                      batch_size=512,\n",
        "                      validation_data=(D_Val, L_Val))\n",
        "\n",
        "hist_dict4 = history_4.history\n",
        "values_Loss = hist_dict4[\"loss\"]\n",
        "valid_loss_values = hist_dict4[\"val_loss\"]\n",
        "epochs = range(1, len(values_Loss) + 1)\n",
        "plt.plot(epochs, values_Loss, \"bo\", label=\"Training loss\")\n",
        "plt.plot(epochs, valid_loss_values, \"b\", label=\"Validation loss\")\n",
        "plt.title(\"Training and validation loss\")\n",
        "plt.xlabel(\"Epochs\")\n",
        "plt.ylabel(\"Loss\")\n",
        "plt.legend()\n",
        "plt.show()\n",
        "\n",
        "plt.clf()\n",
        "Accuracy = hist_dict4[\"accuracy\"]\n",
        "Accuracy_Val = hist_dict4[\"val_accuracy\"]\n",
        "plt.plot(epochs, Accuracy, \"bo\", label=\"Training acc\")\n",
        "plt.plot(epochs, Accuracy_Val, \"b\", label=\"Validation acc\")\n",
        "plt.title(\"Training and validation accuracy\")\n",
        "plt.xlabel(\"Epochs\")\n",
        "plt.ylabel(\"Accuracy\")\n",
        "plt.legend()\n",
        "plt.show()\n",
        "\n"
      ],
      "execution_count": 96,
      "outputs": [
        {
          "output_type": "stream",
          "name": "stdout",
          "text": [
            "Epoch 1/20\n",
            "30/30 [==============================] - 3s 54ms/step - loss: 0.4820 - accuracy: 0.7759 - val_loss: 0.3342 - val_accuracy: 0.8772\n",
            "Epoch 2/20\n",
            "30/30 [==============================] - 1s 45ms/step - loss: 0.2683 - accuracy: 0.9012 - val_loss: 0.3187 - val_accuracy: 0.8688\n",
            "Epoch 3/20\n",
            "30/30 [==============================] - 1s 43ms/step - loss: 0.1896 - accuracy: 0.9335 - val_loss: 0.2748 - val_accuracy: 0.8900\n",
            "Epoch 4/20\n",
            "30/30 [==============================] - 1s 42ms/step - loss: 0.1556 - accuracy: 0.9439 - val_loss: 0.2864 - val_accuracy: 0.8881\n",
            "Epoch 5/20\n",
            "30/30 [==============================] - 1s 41ms/step - loss: 0.1171 - accuracy: 0.9611 - val_loss: 0.3137 - val_accuracy: 0.8810\n",
            "Epoch 6/20\n",
            "30/30 [==============================] - 1s 42ms/step - loss: 0.0925 - accuracy: 0.9697 - val_loss: 0.3305 - val_accuracy: 0.8826\n",
            "Epoch 7/20\n",
            "30/30 [==============================] - 1s 42ms/step - loss: 0.0758 - accuracy: 0.9742 - val_loss: 0.3641 - val_accuracy: 0.8786\n",
            "Epoch 8/20\n",
            "30/30 [==============================] - 1s 42ms/step - loss: 0.0558 - accuracy: 0.9829 - val_loss: 0.4153 - val_accuracy: 0.8708\n",
            "Epoch 9/20\n",
            "30/30 [==============================] - 1s 42ms/step - loss: 0.0439 - accuracy: 0.9878 - val_loss: 0.4316 - val_accuracy: 0.8758\n",
            "Epoch 10/20\n",
            "30/30 [==============================] - 1s 44ms/step - loss: 0.0320 - accuracy: 0.9915 - val_loss: 0.4715 - val_accuracy: 0.8728\n",
            "Epoch 11/20\n",
            "30/30 [==============================] - 1s 43ms/step - loss: 0.0311 - accuracy: 0.9905 - val_loss: 0.5106 - val_accuracy: 0.8701\n",
            "Epoch 12/20\n",
            "30/30 [==============================] - 1s 42ms/step - loss: 0.0221 - accuracy: 0.9944 - val_loss: 0.5346 - val_accuracy: 0.8732\n",
            "Epoch 13/20\n",
            "30/30 [==============================] - 1s 42ms/step - loss: 0.0100 - accuracy: 0.9985 - val_loss: 0.8380 - val_accuracy: 0.8329\n",
            "Epoch 14/20\n",
            "30/30 [==============================] - 1s 43ms/step - loss: 0.0073 - accuracy: 0.9991 - val_loss: 0.6261 - val_accuracy: 0.8700\n",
            "Epoch 15/20\n",
            "30/30 [==============================] - 1s 42ms/step - loss: 0.0188 - accuracy: 0.9943 - val_loss: 0.6540 - val_accuracy: 0.8695\n",
            "Epoch 16/20\n",
            "30/30 [==============================] - 1s 42ms/step - loss: 0.0025 - accuracy: 0.9999 - val_loss: 0.6883 - val_accuracy: 0.8698\n",
            "Epoch 17/20\n",
            "30/30 [==============================] - 1s 43ms/step - loss: 0.0056 - accuracy: 0.9986 - val_loss: 0.8143 - val_accuracy: 0.8563\n",
            "Epoch 18/20\n",
            "30/30 [==============================] - 1s 43ms/step - loss: 0.0015 - accuracy: 1.0000 - val_loss: 0.7791 - val_accuracy: 0.8667\n",
            "Epoch 19/20\n",
            "30/30 [==============================] - 1s 43ms/step - loss: 7.7523e-04 - accuracy: 1.0000 - val_loss: 0.8313 - val_accuracy: 0.8674\n",
            "Epoch 20/20\n",
            "30/30 [==============================] - 1s 43ms/step - loss: 0.0262 - accuracy: 0.9943 - val_loss: 0.8854 - val_accuracy: 0.8635\n"
          ]
        },
        {
          "output_type": "display_data",
          "data": {
            "image/png": "[encoded data removed]",
            "text/plain": [
              "<Figure size 432x288 with 1 Axes>"
            ]
          },
          "metadata": {
            "needs_background": "light"
          }
        },
        {
          "output_type": "display_data",
          "data": {
            "image/png": "[encoded data removed]",
            "text/plain": [
              "<Figure size 432x288 with 1 Axes>"
            ]
          },
          "metadata": {
            "needs_background": "light"
          }
        }
      ]
    },
    {
      "cell_type": "code",
      "metadata": {
        "colab": {
          "base_uri": "https://localhost:8080/"
        },
        "id": "RVjL2qRS6dKm",
        "outputId": "ad1465f0-5b83-4c5d-bf29-bacc9ff13194"
      },
      "source": [
        "model_4.summary()"
      ],
      "execution_count": 97,
      "outputs": [
        {
          "output_type": "stream",
          "name": "stdout",
          "text": [
            "Model: \"sequential_26\"\n",
            "_________________________________________________________________\n",
            "Layer (type)                 Output Shape              Param #   \n",
            "=================================================================\n",
            "dense_64 (Dense)             (None, 32)                320032    \n",
            "_________________________________________________________________\n",
            "dense_65 (Dense)             (None, 64)                2112      \n",
            "_________________________________________________________________\n",
            "dense_66 (Dense)             (None, 1)                 65        \n",
            "=================================================================\n",
            "Total params: 322,209\n",
            "Trainable params: 322,209\n",
            "Non-trainable params: 0\n",
            "_________________________________________________________________\n"
          ]
        }
      ]
    },
    {
      "cell_type": "markdown",
      "metadata": {
        "id": "ReIInPhxlD0v"
      },
      "source": [
        "WIth more hidden units, we see that optimal number of epochs is still at 4 . At 4 epochs the accuracy is 0.88 and the loss is 0.29"
      ]
    },
    {
      "cell_type": "markdown",
      "metadata": {
        "id": "BpxERcADlbIk"
      },
      "source": [
        "#Trying to use MSE loss function"
      ]
    },
    {
      "cell_type": "code",
      "metadata": {
        "colab": {
          "base_uri": "https://localhost:8080/",
          "height": 1000
        },
        "id": "9-h47ji5l-JH",
        "outputId": "90512f4b-510e-47b1-a397-5d1ee5c4a81e"
      },
      "source": [
        "model_5 = models.Sequential()\n",
        "model_5.add(layers.Dense(32, activation=\"relu\")),\n",
        "model_5.add(layers.Dense(64, activation=\"relu\")),\n",
        "model_5.add(layers.Dense(1, activation=\"sigmoid\"))\n",
        "\n",
        "model_5.compile(optimizer='rmsprop',\n",
        "              loss='mse',\n",
        "              metrics=['accuracy'])\n",
        "\n",
        "history_5 = model_5.fit(Partial_D_Train,\n",
        "                      Partial_L_Train,\n",
        "                      epochs=20,\n",
        "                      batch_size=512,\n",
        "                      validation_data=(D_Val, L_Val))\n",
        "\n",
        "hist_dict5 = history_5.history\n",
        "values_Loss = hist_dict5[\"loss\"]\n",
        "valid_loss_values = hist_dict5[\"val_loss\"]\n",
        "epochs = range(1, len(values_Loss) + 1)\n",
        "plt.plot(epochs, values_Loss, \"bo\", label=\"Training loss\")\n",
        "plt.plot(epochs, valid_loss_values, \"b\", label=\"Validation loss\")\n",
        "plt.title(\"Training and validation loss\")\n",
        "plt.xlabel(\"Epochs\")\n",
        "plt.ylabel(\"Loss\")\n",
        "plt.legend()\n",
        "plt.show()\n",
        "\n",
        "plt.clf()\n",
        "Accuracy = hist_dict5[\"accuracy\"]\n",
        "Accuracy_Val = hist_dict5[\"val_accuracy\"]\n",
        "plt.plot(epochs, Accuracy, \"bo\", label=\"Training acc\")\n",
        "plt.plot(epochs, Accuracy_Val, \"b\", label=\"Validation acc\")\n",
        "plt.title(\"Training and validation accuracy\")\n",
        "plt.xlabel(\"Epochs\")\n",
        "plt.ylabel(\"Accuracy\")\n",
        "plt.legend()\n",
        "plt.show()\n",
        "\n"
      ],
      "execution_count": 98,
      "outputs": [
        {
          "output_type": "stream",
          "name": "stdout",
          "text": [
            "Epoch 1/20\n",
            "30/30 [==============================] - 2s 52ms/step - loss: 0.1651 - accuracy: 0.7711 - val_loss: 0.1057 - val_accuracy: 0.8776\n",
            "Epoch 2/20\n",
            "30/30 [==============================] - 1s 42ms/step - loss: 0.0813 - accuracy: 0.9045 - val_loss: 0.0868 - val_accuracy: 0.8889\n",
            "Epoch 3/20\n",
            "30/30 [==============================] - 1s 43ms/step - loss: 0.0556 - accuracy: 0.9353 - val_loss: 0.0846 - val_accuracy: 0.8859\n",
            "Epoch 4/20\n",
            "30/30 [==============================] - 1s 43ms/step - loss: 0.0446 - accuracy: 0.9482 - val_loss: 0.0828 - val_accuracy: 0.8868\n",
            "Epoch 5/20\n",
            "30/30 [==============================] - 1s 42ms/step - loss: 0.0329 - accuracy: 0.9633 - val_loss: 0.0858 - val_accuracy: 0.8836\n",
            "Epoch 6/20\n",
            "30/30 [==============================] - 1s 43ms/step - loss: 0.0270 - accuracy: 0.9705 - val_loss: 0.1145 - val_accuracy: 0.8491\n",
            "Epoch 7/20\n",
            "30/30 [==============================] - 1s 42ms/step - loss: 0.0207 - accuracy: 0.9781 - val_loss: 0.0939 - val_accuracy: 0.8766\n",
            "Epoch 8/20\n",
            "30/30 [==============================] - 1s 42ms/step - loss: 0.0177 - accuracy: 0.9813 - val_loss: 0.0932 - val_accuracy: 0.8794\n",
            "Epoch 9/20\n",
            "30/30 [==============================] - 1s 43ms/step - loss: 0.0142 - accuracy: 0.9843 - val_loss: 0.0957 - val_accuracy: 0.8792\n",
            "Epoch 10/20\n",
            "30/30 [==============================] - 1s 43ms/step - loss: 0.0124 - accuracy: 0.9871 - val_loss: 0.0981 - val_accuracy: 0.8783\n",
            "Epoch 11/20\n",
            "30/30 [==============================] - 1s 43ms/step - loss: 0.0093 - accuracy: 0.9903 - val_loss: 0.1002 - val_accuracy: 0.8738\n",
            "Epoch 12/20\n",
            "30/30 [==============================] - 1s 43ms/step - loss: 0.0053 - accuracy: 0.9955 - val_loss: 0.1325 - val_accuracy: 0.8417\n",
            "Epoch 13/20\n",
            "30/30 [==============================] - 1s 44ms/step - loss: 0.0063 - accuracy: 0.9937 - val_loss: 0.1043 - val_accuracy: 0.8714\n",
            "Epoch 14/20\n",
            "30/30 [==============================] - 1s 42ms/step - loss: 0.0081 - accuracy: 0.9904 - val_loss: 0.1065 - val_accuracy: 0.8693\n",
            "Epoch 15/20\n",
            "30/30 [==============================] - 1s 42ms/step - loss: 0.0032 - accuracy: 0.9972 - val_loss: 0.1205 - val_accuracy: 0.8568\n",
            "Epoch 16/20\n",
            "30/30 [==============================] - 1s 44ms/step - loss: 0.0064 - accuracy: 0.9930 - val_loss: 0.1095 - val_accuracy: 0.8679\n",
            "Epoch 17/20\n",
            "30/30 [==============================] - 1s 42ms/step - loss: 0.0026 - accuracy: 0.9976 - val_loss: 0.1105 - val_accuracy: 0.8698\n",
            "Epoch 18/20\n",
            "30/30 [==============================] - 1s 42ms/step - loss: 0.0071 - accuracy: 0.9913 - val_loss: 0.1126 - val_accuracy: 0.8662\n",
            "Epoch 19/20\n",
            "30/30 [==============================] - 1s 42ms/step - loss: 0.0023 - accuracy: 0.9977 - val_loss: 0.1139 - val_accuracy: 0.8650\n",
            "Epoch 20/20\n",
            "30/30 [==============================] - 1s 42ms/step - loss: 0.0023 - accuracy: 0.9978 - val_loss: 0.1150 - val_accuracy: 0.8658\n"
          ]
        },
        {
          "output_type": "display_data",
          "data": {
            "image/png": "[encoded data removed]",
            "text/plain": [
              "<Figure size 432x288 with 1 Axes>"
            ]
          },
          "metadata": {
            "needs_background": "light"
          }
        },
        {
          "output_type": "display_data",
          "data": {
            "image/png": "[encoded data removed]",
            "text/plain": [
              "<Figure size 432x288 with 1 Axes>"
            ]
          },
          "metadata": {
            "needs_background": "light"
          }
        }
      ]
    },
    {
      "cell_type": "code",
      "metadata": {
        "colab": {
          "base_uri": "https://localhost:8080/"
        },
        "id": "QXaeITHb6ooN",
        "outputId": "bab34165-d071-46bb-d2a9-14aaf4ae9cd0"
      },
      "source": [
        "model_5.summary()"
      ],
      "execution_count": 99,
      "outputs": [
        {
          "output_type": "stream",
          "name": "stdout",
          "text": [
            "Model: \"sequential_27\"\n",
            "_________________________________________________________________\n",
            "Layer (type)                 Output Shape              Param #   \n",
            "=================================================================\n",
            "dense_67 (Dense)             (None, 32)                320032    \n",
            "_________________________________________________________________\n",
            "dense_68 (Dense)             (None, 64)                2112      \n",
            "_________________________________________________________________\n",
            "dense_69 (Dense)             (None, 1)                 65        \n",
            "=================================================================\n",
            "Total params: 322,209\n",
            "Trainable params: 322,209\n",
            "Non-trainable params: 0\n",
            "_________________________________________________________________\n"
          ]
        }
      ]
    },
    {
      "cell_type": "markdown",
      "metadata": {
        "id": "OIwueQbQmpWV"
      },
      "source": [
        "#Trying to use the tanh activation (an activation that was popular in the early days of neural networks) instead of relu."
      ]
    },
    {
      "cell_type": "code",
      "metadata": {
        "colab": {
          "base_uri": "https://localhost:8080/",
          "height": 1000
        },
        "id": "a1_xPUOfm62R",
        "outputId": "9d233b53-6284-4634-8cc2-1ba72530e438"
      },
      "source": [
        "model_6 = models.Sequential()\n",
        "model_6.add(layers.Dense(32, activation=\"tanh\")),\n",
        "model_6.add(layers.Dense(64, activation=\"tanh\")),\n",
        "model_6.add(layers.Dense(1, activation=\"sigmoid\"))\n",
        "\n",
        "model_6.compile(optimizer='rmsprop',\n",
        "              loss='binary_crossentropy',\n",
        "              metrics=['accuracy'])\n",
        "\n",
        "history_6 = model_6.fit(Partial_D_Train,\n",
        "                      Partial_L_Train,\n",
        "                      epochs=20,\n",
        "                      batch_size=512,\n",
        "                      validation_data=(D_Val, L_Val))\n",
        "\n",
        "hist_dict6 = history_6.history\n",
        "values_Loss = hist_dict6[\"loss\"]\n",
        "valid_loss_values = hist_dict6[\"val_loss\"]\n",
        "epochs = range(1, len(values_Loss) + 1)\n",
        "plt.plot(epochs, values_Loss, \"bo\", label=\"Training loss\")\n",
        "plt.plot(epochs, valid_loss_values, \"b\", label=\"Validation loss\")\n",
        "plt.title(\"Training and validation loss\")\n",
        "plt.xlabel(\"Epochs\")\n",
        "plt.ylabel(\"Loss\")\n",
        "plt.legend()\n",
        "plt.show()\n",
        "\n",
        "plt.clf()\n",
        "Accuracy = hist_dict6[\"accuracy\"]\n",
        "Accuracy_Val = hist_dict6[\"val_accuracy\"]\n",
        "plt.plot(epochs, Accuracy, \"bo\", label=\"Training acc\")\n",
        "plt.plot(epochs, Accuracy_Val, \"b\", label=\"Validation acc\")\n",
        "plt.title(\"Training and validation accuracy\")\n",
        "plt.xlabel(\"Epochs\")\n",
        "plt.ylabel(\"Accuracy\")\n",
        "plt.legend()\n",
        "plt.show()\n",
        "\n"
      ],
      "execution_count": 100,
      "outputs": [
        {
          "output_type": "stream",
          "name": "stdout",
          "text": [
            "Epoch 1/20\n",
            "30/30 [==============================] - 2s 52ms/step - loss: 0.4508 - accuracy: 0.7926 - val_loss: 0.2996 - val_accuracy: 0.8814\n",
            "Epoch 2/20\n",
            "30/30 [==============================] - 1s 42ms/step - loss: 0.2324 - accuracy: 0.9121 - val_loss: 0.2810 - val_accuracy: 0.8876\n",
            "Epoch 3/20\n",
            "30/30 [==============================] - 1s 41ms/step - loss: 0.1624 - accuracy: 0.9374 - val_loss: 0.3028 - val_accuracy: 0.8806\n",
            "Epoch 4/20\n",
            "30/30 [==============================] - 1s 40ms/step - loss: 0.1296 - accuracy: 0.9506 - val_loss: 0.3477 - val_accuracy: 0.8740\n",
            "Epoch 5/20\n",
            "30/30 [==============================] - 1s 40ms/step - loss: 0.1033 - accuracy: 0.9631 - val_loss: 0.3673 - val_accuracy: 0.8800\n",
            "Epoch 6/20\n",
            "30/30 [==============================] - 1s 40ms/step - loss: 0.0843 - accuracy: 0.9722 - val_loss: 0.4979 - val_accuracy: 0.8637\n",
            "Epoch 7/20\n",
            "30/30 [==============================] - 1s 40ms/step - loss: 0.0637 - accuracy: 0.9761 - val_loss: 0.5858 - val_accuracy: 0.8574\n",
            "Epoch 8/20\n",
            "30/30 [==============================] - 1s 41ms/step - loss: 0.0625 - accuracy: 0.9787 - val_loss: 0.5212 - val_accuracy: 0.8723\n",
            "Epoch 9/20\n",
            "30/30 [==============================] - 1s 40ms/step - loss: 0.0604 - accuracy: 0.9814 - val_loss: 0.5693 - val_accuracy: 0.8711\n",
            "Epoch 10/20\n",
            "30/30 [==============================] - 1s 40ms/step - loss: 0.0133 - accuracy: 0.9977 - val_loss: 0.6406 - val_accuracy: 0.8695\n",
            "Epoch 11/20\n",
            "30/30 [==============================] - 1s 40ms/step - loss: 0.0396 - accuracy: 0.9893 - val_loss: 0.7280 - val_accuracy: 0.8547\n",
            "Epoch 12/20\n",
            "30/30 [==============================] - 1s 41ms/step - loss: 0.0425 - accuracy: 0.9891 - val_loss: 0.7141 - val_accuracy: 0.8671\n",
            "Epoch 13/20\n",
            "30/30 [==============================] - 1s 40ms/step - loss: 0.0044 - accuracy: 0.9997 - val_loss: 0.7790 - val_accuracy: 0.8616\n",
            "Epoch 14/20\n",
            "30/30 [==============================] - 1s 40ms/step - loss: 0.0451 - accuracy: 0.9889 - val_loss: 0.8004 - val_accuracy: 0.8650\n",
            "Epoch 15/20\n",
            "30/30 [==============================] - 1s 41ms/step - loss: 0.0019 - accuracy: 0.9999 - val_loss: 0.8366 - val_accuracy: 0.8646\n",
            "Epoch 16/20\n",
            "30/30 [==============================] - 1s 41ms/step - loss: 0.0012 - accuracy: 0.9999 - val_loss: 0.9228 - val_accuracy: 0.8638\n",
            "Epoch 17/20\n",
            "30/30 [==============================] - 1s 41ms/step - loss: 0.0415 - accuracy: 0.9910 - val_loss: 0.9758 - val_accuracy: 0.8633\n",
            "Epoch 18/20\n",
            "30/30 [==============================] - 1s 41ms/step - loss: 5.9713e-04 - accuracy: 1.0000 - val_loss: 1.0007 - val_accuracy: 0.8634\n",
            "Epoch 19/20\n",
            "30/30 [==============================] - 1s 40ms/step - loss: 3.3079e-04 - accuracy: 1.0000 - val_loss: 1.0481 - val_accuracy: 0.8623\n",
            "Epoch 20/20\n",
            "30/30 [==============================] - 1s 40ms/step - loss: 0.0348 - accuracy: 0.9929 - val_loss: 1.1033 - val_accuracy: 0.8612\n"
          ]
        },
        {
          "output_type": "display_data",
          "data": {
            "image/png": "[encoded data removed]",
            "text/plain": [
              "<Figure size 432x288 with 1 Axes>"
            ]
          },
          "metadata": {
            "needs_background": "light"
          }
        },
        {
          "output_type": "display_data",
          "data": {
            "image/png": "[encoded data removed]",
            "text/plain": [
              "<Figure size 432x288 with 1 Axes>"
            ]
          },
          "metadata": {
            "needs_background": "light"
          }
        }
      ]
    },
    {
      "cell_type": "code",
      "metadata": {
        "colab": {
          "base_uri": "https://localhost:8080/"
        },
        "id": "1uWkF7_O6xrj",
        "outputId": "f62218c8-8836-4aee-bfed-62d1670992c1"
      },
      "source": [
        "model_6.summary()"
      ],
      "execution_count": 101,
      "outputs": [
        {
          "output_type": "stream",
          "name": "stdout",
          "text": [
            "Model: \"sequential_28\"\n",
            "_________________________________________________________________\n",
            "Layer (type)                 Output Shape              Param #   \n",
            "=================================================================\n",
            "dense_70 (Dense)             (None, 32)                320032    \n",
            "_________________________________________________________________\n",
            "dense_71 (Dense)             (None, 64)                2112      \n",
            "_________________________________________________________________\n",
            "dense_72 (Dense)             (None, 1)                 65        \n",
            "=================================================================\n",
            "Total params: 322,209\n",
            "Trainable params: 322,209\n",
            "Non-trainable params: 0\n",
            "_________________________________________________________________\n"
          ]
        }
      ]
    },
    {
      "cell_type": "markdown",
      "metadata": {
        "id": "rZaSeGxMwN-b"
      },
      "source": [
        "#Use any technique we studied in class, and these include regularization, dropout, etc., to get your model to perform better on validation."
      ]
    },
    {
      "cell_type": "markdown",
      "metadata": {
        "id": "6ZDqoramwSqU"
      },
      "source": [
        "2-hidden layer network with 32, 64 and 1 units\n",
        "relu activation\n",
        "dropout"
      ]
    },
    {
      "cell_type": "code",
      "metadata": {
        "colab": {
          "base_uri": "https://localhost:8080/",
          "height": 1000
        },
        "id": "pA-yia4TwCoC",
        "outputId": "11eae2ce-27ed-4af4-bf05-bc04fe414624"
      },
      "source": [
        "from tensorflow.keras.layers import Dropout\n",
        "model_7 = models.Sequential()\n",
        "model_7.add(layers.Dense(32, activation=\"relu\")),\n",
        "model_7.add(Dropout(0.2)),\n",
        "model_7.add(layers.Dense(64, activation=\"relu\")),\n",
        "model_7.add(Dropout(0.2)),\n",
        "model_7.add(layers.Dense(1, activation=\"sigmoid\"))\n",
        "\n",
        "model_7.compile(optimizer='rmsprop',\n",
        "              loss='binary_crossentropy',\n",
        "              metrics=['accuracy'])\n",
        "\n",
        "history_7 = model_7.fit(Partial_D_Train,\n",
        "                      Partial_L_Train,\n",
        "                      epochs=20,\n",
        "                      batch_size=512,\n",
        "                      validation_data=(D_Val, L_Val))\n",
        "\n",
        "hist_dict7 = history_7.history\n",
        "values_Loss = hist_dict7[\"loss\"]\n",
        "valid_loss_values = hist_dict7[\"val_loss\"]\n",
        "epochs = range(1, len(values_Loss) + 1)\n",
        "plt.plot(epochs, values_Loss, \"bo\", label=\"Training loss\")\n",
        "plt.plot(epochs, valid_loss_values, \"b\", label=\"Validation loss\")\n",
        "plt.title(\"Training and validation loss\")\n",
        "plt.xlabel(\"Epochs\")\n",
        "plt.ylabel(\"Loss\")\n",
        "plt.legend()\n",
        "plt.show()\n",
        "\n",
        "plt.clf()\n",
        "Accuracy = hist_dict7[\"accuracy\"]\n",
        "Accuracy_Val = hist_dict7[\"val_accuracy\"]\n",
        "plt.plot(epochs, Accuracy, \"bo\", label=\"Training acc\")\n",
        "plt.plot(epochs, Accuracy_Val, \"b\", label=\"Validation acc\")\n",
        "plt.title(\"Training and validation accuracy\")\n",
        "plt.xlabel(\"Epochs\")\n",
        "plt.ylabel(\"Accuracy\")\n",
        "plt.legend()\n",
        "plt.show()\n",
        "\n"
      ],
      "execution_count": 102,
      "outputs": [
        {
          "output_type": "stream",
          "name": "stdout",
          "text": [
            "Epoch 1/20\n",
            "30/30 [==============================] - 2s 53ms/step - loss: 0.5195 - accuracy: 0.7568 - val_loss: 0.3414 - val_accuracy: 0.8764\n",
            "Epoch 2/20\n",
            "30/30 [==============================] - 1s 44ms/step - loss: 0.3017 - accuracy: 0.8869 - val_loss: 0.2879 - val_accuracy: 0.8862\n",
            "Epoch 3/20\n",
            "30/30 [==============================] - 1s 43ms/step - loss: 0.2163 - accuracy: 0.9209 - val_loss: 0.2727 - val_accuracy: 0.8905\n",
            "Epoch 4/20\n",
            "30/30 [==============================] - 1s 43ms/step - loss: 0.1721 - accuracy: 0.9369 - val_loss: 0.2803 - val_accuracy: 0.8890\n",
            "Epoch 5/20\n",
            "30/30 [==============================] - 1s 43ms/step - loss: 0.1340 - accuracy: 0.9533 - val_loss: 0.3047 - val_accuracy: 0.8829\n",
            "Epoch 6/20\n",
            "30/30 [==============================] - 1s 43ms/step - loss: 0.1002 - accuracy: 0.9661 - val_loss: 0.3238 - val_accuracy: 0.8839\n",
            "Epoch 7/20\n",
            "30/30 [==============================] - 1s 43ms/step - loss: 0.0801 - accuracy: 0.9751 - val_loss: 0.3703 - val_accuracy: 0.8785\n",
            "Epoch 8/20\n",
            "30/30 [==============================] - 1s 43ms/step - loss: 0.0683 - accuracy: 0.9783 - val_loss: 0.3882 - val_accuracy: 0.8799\n",
            "Epoch 9/20\n",
            "30/30 [==============================] - 1s 43ms/step - loss: 0.0383 - accuracy: 0.9888 - val_loss: 0.4909 - val_accuracy: 0.8757\n",
            "Epoch 10/20\n",
            "30/30 [==============================] - 1s 44ms/step - loss: 0.0409 - accuracy: 0.9869 - val_loss: 0.4793 - val_accuracy: 0.8751\n",
            "Epoch 11/20\n",
            "30/30 [==============================] - 1s 43ms/step - loss: 0.0292 - accuracy: 0.9909 - val_loss: 0.5159 - val_accuracy: 0.8760\n",
            "Epoch 12/20\n",
            "30/30 [==============================] - 1s 43ms/step - loss: 0.0294 - accuracy: 0.9917 - val_loss: 0.5451 - val_accuracy: 0.8748\n",
            "Epoch 13/20\n",
            "30/30 [==============================] - 1s 43ms/step - loss: 0.0090 - accuracy: 0.9988 - val_loss: 0.6423 - val_accuracy: 0.8754\n",
            "Epoch 14/20\n",
            "30/30 [==============================] - 1s 43ms/step - loss: 0.0219 - accuracy: 0.9939 - val_loss: 0.6566 - val_accuracy: 0.8753\n",
            "Epoch 15/20\n",
            "30/30 [==============================] - 1s 44ms/step - loss: 0.0053 - accuracy: 0.9995 - val_loss: 0.7272 - val_accuracy: 0.8752\n",
            "Epoch 16/20\n",
            "30/30 [==============================] - 1s 44ms/step - loss: 0.0064 - accuracy: 0.9988 - val_loss: 0.7883 - val_accuracy: 0.8679\n",
            "Epoch 17/20\n",
            "30/30 [==============================] - 1s 44ms/step - loss: 0.0075 - accuracy: 0.9983 - val_loss: 0.8721 - val_accuracy: 0.8607\n",
            "Epoch 18/20\n",
            "30/30 [==============================] - 1s 43ms/step - loss: 0.0050 - accuracy: 0.9988 - val_loss: 0.8857 - val_accuracy: 0.8755\n",
            "Epoch 19/20\n",
            "30/30 [==============================] - 1s 43ms/step - loss: 0.0123 - accuracy: 0.9967 - val_loss: 0.8721 - val_accuracy: 0.8727\n",
            "Epoch 20/20\n",
            "30/30 [==============================] - 1s 43ms/step - loss: 0.0018 - accuracy: 0.9998 - val_loss: 0.9770 - val_accuracy: 0.8729\n"
          ]
        },
        {
          "output_type": "display_data",
          "data": {
            "image/png": "[encoded data removed]",
            "text/plain": [
              "<Figure size 432x288 with 1 Axes>"
            ]
          },
          "metadata": {
            "needs_background": "light"
          }
        },
        {
          "output_type": "display_data",
          "data": {
            "image/png": "[encoded data removed]",
            "text/plain": [
              "<Figure size 432x288 with 1 Axes>"
            ]
          },
          "metadata": {
            "needs_background": "light"
          }
        }
      ]
    },
    {
      "cell_type": "code",
      "metadata": {
        "colab": {
          "base_uri": "https://localhost:8080/"
        },
        "id": "uno2CU1a_gyg",
        "outputId": "6e7643da-e9bb-4db6-c16b-a1f5bc6043b7"
      },
      "source": [
        "result  = model_1.evaluate(D_test,L_Test)\n",
        "model_1.summary()"
      ],
      "execution_count": 106,
      "outputs": [
        {
          "output_type": "stream",
          "name": "stdout",
          "text": [
            "782/782 [==============================] - 1s 2ms/step - loss: 0.2947 - accuracy: 0.8833\n",
            "Model: \"sequential_23\"\n",
            "_________________________________________________________________\n",
            "Layer (type)                 Output Shape              Param #   \n",
            "=================================================================\n",
            "dense_55 (Dense)             (None, 16)                160016    \n",
            "_________________________________________________________________\n",
            "dense_56 (Dense)             (None, 16)                272       \n",
            "_________________________________________________________________\n",
            "dense_57 (Dense)             (None, 1)                 17        \n",
            "=================================================================\n",
            "Total params: 160,305\n",
            "Trainable params: 160,305\n",
            "Non-trainable params: 0\n",
            "_________________________________________________________________\n"
          ]
        }
      ]
    },
    {
      "cell_type": "code",
      "metadata": {
        "colab": {
          "base_uri": "https://localhost:8080/"
        },
        "id": "vPngos4l63z1",
        "outputId": "d3034bb7-9aba-426d-9d2f-72d302a321ea"
      },
      "source": [
        "result = model_7.evaluate(D_test, L_Test)\n",
        "model_7.summary()"
      ],
      "execution_count": 104,
      "outputs": [
        {
          "output_type": "stream",
          "name": "stdout",
          "text": [
            "782/782 [==============================] - 2s 2ms/step - loss: 1.0432 - accuracy: 0.8583\n",
            "Model: \"sequential_29\"\n",
            "_________________________________________________________________\n",
            "Layer (type)                 Output Shape              Param #   \n",
            "=================================================================\n",
            "dense_73 (Dense)             (None, 32)                320032    \n",
            "_________________________________________________________________\n",
            "dropout_4 (Dropout)          (None, 32)                0         \n",
            "_________________________________________________________________\n",
            "dense_74 (Dense)             (None, 64)                2112      \n",
            "_________________________________________________________________\n",
            "dropout_5 (Dropout)          (None, 64)                0         \n",
            "_________________________________________________________________\n",
            "dense_75 (Dense)             (None, 1)                 65        \n",
            "=================================================================\n",
            "Total params: 322,209\n",
            "Trainable params: 322,209\n",
            "Non-trainable params: 0\n",
            "_________________________________________________________________\n"
          ]
        }
      ]
    },
    {
      "cell_type": "markdown",
      "metadata": {
        "id": "RYn16Fgj5w7n"
      },
      "source": [
        "With dropout, the number of epochs at which the loss is minimum and accuracy is high is 3, Loss is at 1.04 and accuracy is at 0.86"
      ]
    },
    {
      "cell_type": "markdown",
      "metadata": {
        "id": "WrkzjOoq_w3N"
      },
      "source": [
        "#Conclusion"
      ]
    },
    {
      "cell_type": "markdown",
      "metadata": {
        "id": "Idn7vSTI_0x4"
      },
      "source": [
        "With Relu activation and 2 layers with 16 units, the accuracy is 0.88 where as with relu, dropout and 2 layers with 32,64 units, the accuracy has come down to 0.85. The two models widely differ in terms of loss as well where the second model has a loss at 1.04 compared to the first model whose loss is at 0.29. We would consider the first model to be much stable."
      ]
    }
  ]
}